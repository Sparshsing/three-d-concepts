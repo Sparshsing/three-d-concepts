{
  "metadata": {
    "language_info": {
      "codemirror_mode": {
        "name": "python",
        "version": 3
      },
      "file_extension": ".py",
      "mimetype": "text/x-python",
      "name": "python",
      "nbconvert_exporter": "python",
      "pygments_lexer": "ipython3",
      "version": "3.8"
    },
    "kernelspec": {
      "name": "python",
      "display_name": "Python (Pyodide)",
      "language": "python"
    }
  },
  "nbformat_minor": 4,
  "nbformat": 4,
  "cells": [
    {
      "cell_type": "markdown",
      "source": "## Demonstration Of Extrinsic and Intrinsic Rotations",
      "metadata": {}
    },
    {
      "cell_type": "code",
      "source": "%pip install -q pyquaternion\n%pip install -q numpy",
      "metadata": {
        "trusted": true
      },
      "execution_count": 1,
      "outputs": []
    },
    {
      "cell_type": "code",
      "source": "from pyquaternion import Quaternion",
      "metadata": {
        "trusted": true
      },
      "execution_count": 2,
      "outputs": []
    },
    {
      "cell_type": "code",
      "source": "import numpy as np",
      "metadata": {
        "trusted": true
      },
      "execution_count": 3,
      "outputs": []
    },
    {
      "cell_type": "code",
      "source": "# Define the rotations along cartesian coordinate axes\nrotx, roty, rotz = np.pi/2, -np.pi/2, np.pi  # 90, -90, 180 deg rotations about x,y,z",
      "metadata": {
        "trusted": true
      },
      "execution_count": 4,
      "outputs": []
    },
    {
      "cell_type": "code",
      "source": "qx = Quaternion(axis=[1, 0, 0], angle=rotx)    # Defines a rotation about x axis\nqy = Quaternion(axis=[0, 1, 0], angle=roty)    # Defines a rotation about y axis\nqz = Quaternion(axis=[0, 0, 1], angle=rotz)    # Defines a rotation about z axis",
      "metadata": {
        "trusted": true
      },
      "execution_count": 5,
      "outputs": []
    },
    {
      "cell_type": "markdown",
      "source": "### Create intrinsic rotation quaternion by combining the three rotations. Each multiplication is done on previous quaternion(orientation), hence this represents and intrinsic transformation",
      "metadata": {}
    },
    {
      "cell_type": "code",
      "source": "# Intrinsic ZYX\nq_int_zyx = qz*qy*qx\nq_int_zyx",
      "metadata": {
        "trusted": true
      },
      "execution_count": 6,
      "outputs": [
        {
          "execution_count": 6,
          "output_type": "execute_result",
          "data": {
            "text/plain": "Quaternion(-0.49999999999999983, 0.5, 0.49999999999999994, 0.5000000000000001)"
          },
          "metadata": {}
        }
      ]
    },
    {
      "cell_type": "code",
      "source": "# Intrinsic XYZ\nq_int_xyz = qx*qy*qz\nq_int_xyz",
      "metadata": {
        "trusted": true
      },
      "execution_count": 7,
      "outputs": [
        {
          "execution_count": 7,
          "output_type": "execute_result",
          "data": {
            "text/plain": "Quaternion(0.49999999999999994, -0.49999999999999994, -0.5, 0.5000000000000001)"
          },
          "metadata": {}
        }
      ]
    },
    {
      "cell_type": "markdown",
      "source": "### Rotate a point v0 using Extrinsic and Intrinsic Rotations",
      "metadata": {}
    },
    {
      "cell_type": "code",
      "source": "v0 = np.array([3, 4., 5.])",
      "metadata": {
        "trusted": true
      },
      "execution_count": 8,
      "outputs": []
    },
    {
      "cell_type": "code",
      "source": "# Intrinsic zyx\nv1_int_zyx = q_int_zyx.rotate(v0)\nv1_int_zyx",
      "metadata": {
        "trusted": true
      },
      "execution_count": 9,
      "outputs": [
        {
          "execution_count": 9,
          "output_type": "execute_result",
          "data": {
            "text/plain": "array([4., 5., 3.])"
          },
          "metadata": {}
        }
      ]
    },
    {
      "cell_type": "code",
      "source": "# Extrinsic XYZ\nv_temp1 = qx.rotate(v0)\nv_temp2 = qy.rotate(v_temp1)  # qy is a rotation in original frame of reference. Hence this is extrinsic.\nv1_ext_xyz = qz.rotate(v_temp2)  # qx is also a rotation in original frame of reference. Hence this is extrinsic.\nv1_ext_xyz",
      "metadata": {
        "trusted": true
      },
      "execution_count": 10,
      "outputs": [
        {
          "execution_count": 10,
          "output_type": "execute_result",
          "data": {
            "text/plain": "array([4., 5., 3.])"
          },
          "metadata": {}
        }
      ]
    },
    {
      "cell_type": "code",
      "source": "# Intrinsic xyz\nv1_int_xyz = q_int_xyz.rotate(v0)\nv1_int_xyz",
      "metadata": {
        "trusted": true
      },
      "execution_count": 11,
      "outputs": [
        {
          "execution_count": 11,
          "output_type": "execute_result",
          "data": {
            "text/plain": "array([-5.,  3., -4.])"
          },
          "metadata": {}
        }
      ]
    },
    {
      "cell_type": "code",
      "source": "# Extrinsic YZX\nv_temp1 = qz.rotate(v0)\nv_temp2 = qy.rotate(v_temp1)\nv1_ext_zyx = qx.rotate(v_temp2)\nv1_ext_zyx",
      "metadata": {
        "trusted": true
      },
      "execution_count": 12,
      "outputs": [
        {
          "execution_count": 12,
          "output_type": "execute_result",
          "data": {
            "text/plain": "array([-5.,  3., -4.])"
          },
          "metadata": {}
        }
      ]
    },
    {
      "cell_type": "markdown",
      "source": "### We can see that new pooint v1 is same for intrinsic ZYX and Extrinsic XYZ. \n### Hence doing extrinsic rotations in order XYZ is same as intrinsic rotations in order ZYX. Similarly intrinsic XYZ is same as extrinsic ZYX.",
      "metadata": {}
    },
    {
      "cell_type": "code",
      "source": "",
      "metadata": {},
      "execution_count": null,
      "outputs": []
    }
  ]
}