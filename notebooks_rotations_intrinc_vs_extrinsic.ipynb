{
  "cells": [
    {
      "cell_type": "markdown",
      "metadata": {},
      "source": [
        "## Demonstration Of Extrinsic and Intrinsic Rotations"
      ]
    },
    {
      "cell_type": "markdown",
      "metadata": {},
      "source": [
        "To completely define a Euler angle system, one must choose from among the following possible permutations: \n",
        "  Tait-Bryan vs. Classic,\n",
        "  Rotation order,\n",
        "  Intrinsic vs. Extrinsic rotations,\n",
        "  Active vs. Passive rotations,\n",
        "  Coordinate system conventions\n",
        "\n",
        " The common convention is Tait-Bryan Euler angle convention using active, intrinsic rotations around the axes in the order z-y-x. We will call the rotation angles yaw, pitch and roll respectively. \n",
        "\n",
        " Intrinsic vs. Extrinsic rotations: In an intrinsic system, each of the elemental rotations is performed on the coordinate system as rotated by the previous operation(s). In an extrinsic system, each rotation is performed around the axes of the world coordinate system, which does not move. \n",
        "\n",
        "Source: https://danceswithcode.net/engineeringnotes/rotations_in_3d/rotations_in_3d_part1.html"
      ]
    },
    {
      "cell_type": "code",
      "execution_count": null,
      "metadata": {
        "trusted": true
      },
      "outputs": [],
      "source": [
        "%pip install -q pyquaternion\n",
        "%pip install -q numpy"
      ]
    },
    {
      "cell_type": "code",
      "execution_count": null,
      "metadata": {
        "trusted": true
      },
      "outputs": [],
      "source": [
        "from pyquaternion import Quaternion"
      ]
    },
    {
      "cell_type": "code",
      "execution_count": 3,
      "metadata": {
        "trusted": true
      },
      "outputs": [],
      "source": [
        "import numpy as np"
      ]
    },
    {
      "cell_type": "code",
      "execution_count": null,
      "metadata": {
        "trusted": true
      },
      "outputs": [],
      "source": [
        "# Define the rotations along cartesian coordinate axes\n",
        "rotx, roty, rotz = np.pi/2, -np.pi/2, np.pi  # 90, -90, 180 deg rotations about x,y,z"
      ]
    },
    {
      "cell_type": "code",
      "execution_count": null,
      "metadata": {
        "trusted": true
      },
      "outputs": [],
      "source": [
        "qx = Quaternion(axis=[1, 0, 0], angle=rotx)    # Defines a rotation about x axis\n",
        "qy = Quaternion(axis=[0, 1, 0], angle=roty)    # Defines a rotation about y axis\n",
        "qz = Quaternion(axis=[0, 0, 1], angle=rotz)    # Defines a rotation about z axis"
      ]
    },
    {
      "cell_type": "markdown",
      "metadata": {},
      "source": [
        "### Create intrinsic rotation quaternion by combining the three rotations. Each multiplication is done on previous quaternion(orientation), hence this represents and intrinsic transformation"
      ]
    },
    {
      "cell_type": "code",
      "execution_count": null,
      "metadata": {
        "trusted": true
      },
      "outputs": [
        {
          "data": {
            "text/plain": [
              "Quaternion(-0.49999999999999983, 0.5, 0.49999999999999994, 0.5000000000000001)"
            ]
          },
          "execution_count": 6,
          "metadata": {},
          "output_type": "execute_result"
        }
      ],
      "source": [
        "# Intrinsic ZYX\n",
        "q_int_zyx = qz*qy*qx\n",
        "q_int_zyx"
      ]
    },
    {
      "cell_type": "code",
      "execution_count": null,
      "metadata": {
        "trusted": true
      },
      "outputs": [
        {
          "data": {
            "text/plain": [
              "Quaternion(0.49999999999999994, -0.49999999999999994, -0.5, 0.5000000000000001)"
            ]
          },
          "execution_count": 7,
          "metadata": {},
          "output_type": "execute_result"
        }
      ],
      "source": [
        "# Intrinsic XYZ\n",
        "q_int_xyz = qx*qy*qz\n",
        "q_int_xyz"
      ]
    },
    {
      "cell_type": "markdown",
      "metadata": {},
      "source": [
        "### Rotate a point v0 using Extrinsic and Intrinsic Rotations"
      ]
    },
    {
      "cell_type": "code",
      "execution_count": null,
      "metadata": {
        "trusted": true
      },
      "outputs": [],
      "source": [
        "v0 = np.array([3, 4., 5.])"
      ]
    },
    {
      "cell_type": "code",
      "execution_count": null,
      "metadata": {
        "trusted": true
      },
      "outputs": [
        {
          "data": {
            "text/plain": [
              "array([4., 5., 3.])"
            ]
          },
          "execution_count": 9,
          "metadata": {},
          "output_type": "execute_result"
        }
      ],
      "source": [
        "# Intrinsic zyx\n",
        "v1_int_zyx = q_int_zyx.rotate(v0)\n",
        "v1_int_zyx"
      ]
    },
    {
      "cell_type": "code",
      "execution_count": null,
      "metadata": {
        "trusted": true
      },
      "outputs": [
        {
          "data": {
            "text/plain": [
              "array([4., 5., 3.])"
            ]
          },
          "execution_count": 10,
          "metadata": {},
          "output_type": "execute_result"
        }
      ],
      "source": [
        "# Extrinsic XYZ\n",
        "v_temp1 = qx.rotate(v0)\n",
        "v_temp2 = qy.rotate(v_temp1)  # qy is a rotation in original frame of reference. Hence this is extrinsic.\n",
        "v1_ext_xyz = qz.rotate(v_temp2)  # qx is also a rotation in original frame of reference. Hence this is extrinsic.\n",
        "v1_ext_xyz"
      ]
    },
    {
      "cell_type": "code",
      "execution_count": null,
      "metadata": {
        "trusted": true
      },
      "outputs": [
        {
          "data": {
            "text/plain": [
              "array([-5.,  3., -4.])"
            ]
          },
          "execution_count": 11,
          "metadata": {},
          "output_type": "execute_result"
        }
      ],
      "source": [
        "# Intrinsic xyz\n",
        "v1_int_xyz = q_int_xyz.rotate(v0)\n",
        "v1_int_xyz"
      ]
    },
    {
      "cell_type": "code",
      "execution_count": null,
      "metadata": {
        "trusted": true
      },
      "outputs": [
        {
          "data": {
            "text/plain": [
              "array([-5.,  3., -4.])"
            ]
          },
          "execution_count": 12,
          "metadata": {},
          "output_type": "execute_result"
        }
      ],
      "source": [
        "# Extrinsic YZX\n",
        "v_temp1 = qz.rotate(v0)\n",
        "v_temp2 = qy.rotate(v_temp1)\n",
        "v1_ext_zyx = qx.rotate(v_temp2)\n",
        "v1_ext_zyx"
      ]
    },
    {
      "cell_type": "markdown",
      "metadata": {},
      "source": [
        "### We can see that new pooint v1 is same for intrinsic ZYX and Extrinsic XYZ. \n",
        "### Hence doing extrinsic rotations in order XYZ is same as intrinsic rotations in order ZYX. Similarly intrinsic XYZ is same as extrinsic ZYX."
      ]
    },
    {
      "cell_type": "code",
      "execution_count": null,
      "metadata": {},
      "outputs": [],
      "source": []
    }
  ],
  "metadata": {
    "kernelspec": {
      "display_name": "Python 3.9.4 64-bit",
      "language": "python",
      "name": "python3"
    },
    "language_info": {
      "codemirror_mode": {
        "name": "python",
        "version": 3
      },
      "file_extension": ".py",
      "mimetype": "text/x-python",
      "name": "python",
      "nbconvert_exporter": "python",
      "pygments_lexer": "ipython3",
      "version": "3.9.4"
    },
    "vscode": {
      "interpreter": {
        "hash": "f56567df186188151dd1d28de7e3a24073d26821db89b20355805e00c04177c1"
      }
    }
  },
  "nbformat": 4,
  "nbformat_minor": 4
}
